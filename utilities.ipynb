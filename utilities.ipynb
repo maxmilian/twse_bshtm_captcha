{
 "cells": [
  {
   "cell_type": "code",
   "execution_count": null,
   "metadata": {},
   "outputs": [],
   "source": [
    "import os, cv2, csv\n",
    "import numpy as np"
   ]
  },
  {
   "cell_type": "code",
   "execution_count": null,
   "metadata": {},
   "outputs": [],
   "source": [
    "def one_hot_encoding(text, allowedChars):\n",
    "    label_list = []\n",
    "    for c in text:\n",
    "        onehot = [0] * len(allowedChars)\n",
    "        onehot[allowedChars.index(c)] = 1\n",
    "        label_list.append(onehot)\n",
    "    return label_list"
   ]
  },
  {
   "cell_type": "code",
   "execution_count": null,
   "metadata": {},
   "outputs": [],
   "source": [
    "def one_hot_decoding(prediction, allowedChars):\n",
    "    text = ''\n",
    "    for predict in prediction:\n",
    "        value = np.argmax(predict[0])\n",
    "        text += allowedChars[value]\n",
    "    return text"
   ]
  },
  {
   "cell_type": "code",
   "execution_count": null,
   "metadata": {},
   "outputs": [],
   "source": [
    "def read_train_data(filename, size):\n",
    "    train_data = []\n",
    "    if os.path.isdir(filename):\n",
    "        train_data = np.stack([np.array(cv2.imread(filename + str(index) + \".jpg\"))/255.0 for index in range(1, size + 1)])\n",
    "    return train_data"
   ]
  },
  {
   "cell_type": "code",
   "execution_count": null,
   "metadata": {},
   "outputs": [],
   "source": [
    "def read_label_data(filename, allowedChars, num_dic):\n",
    "    train_label = []\n",
    "    traincsv = open(filename, 'r', encoding = 'utf8')\n",
    "    \n",
    "    read_label =  [one_hot_encoding(row[0], allowedChars) for row in csv.reader(traincsv)]\n",
    "    train_label = [[] for _ in range(num_dic)]\n",
    "    \n",
    "    for arr in read_label:\n",
    "        for index in range(num_dic):\n",
    "            train_label[index].append(arr[index])\n",
    "    train_label = [arr for arr in np.asarray(train_label)]\n",
    "    return train_label"
   ]
  },
  {
   "cell_type": "code",
   "execution_count": null,
   "metadata": {},
   "outputs": [],
   "source": [
    "import matplotlib.pyplot as plt\n",
    "def show_train_history(train_history, train, validation):\n",
    "    plt.plot(train_history.history[train])\n",
    "    plt.plot(train_history.history[validation])\n",
    "    plt.title('Train History')\n",
    "    plt.ylabel(train)\n",
    "    plt.xlabel('Epoch')\n",
    "    plt.legend(['train', 'validation'], loc='upper left')\n",
    "    plt.show()"
   ]
  }
 ],
 "metadata": {
  "kernelspec": {
   "display_name": "Python 3",
   "language": "python",
   "name": "python3"
  },
  "language_info": {
   "codemirror_mode": {
    "name": "ipython",
    "version": 3
   },
   "file_extension": ".py",
   "mimetype": "text/x-python",
   "name": "python",
   "nbconvert_exporter": "python",
   "pygments_lexer": "ipython3",
   "version": "3.7.4"
  }
 },
 "nbformat": 4,
 "nbformat_minor": 2
}
