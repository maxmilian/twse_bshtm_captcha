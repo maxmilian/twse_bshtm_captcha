{
 "cells": [
  {
   "cell_type": "code",
   "execution_count": null,
   "metadata": {},
   "outputs": [],
   "source": [
    "import os, cv2, csv\n",
    "import numpy as np\n",
    "from keras.models import Sequential\n",
    "from keras.models import load_model\n",
    "from keras.models import Model\n",
    "from keras.layers import Input, Dense, Dropout, Flatten, Conv2D, MaxPooling2D\n",
    "from keras.layers.normalization import BatchNormalization\n",
    "from keras.utils  import np_utils\n",
    "from keras.callbacks import ModelCheckpoint, EarlyStopping, TensorBoard\n",
    "\n",
    "SIZE = 750\n",
    "MODEL_FOLDER = \"model/\"\n",
    "WIDTH = 200\n",
    "HEIGHT = 60\n",
    "PROCESSED_FOLDER = \"processed/\"\n",
    "LABEL_CSV_FILE = 'label.csv'\n",
    "allowedChars = 'ACDEFGHJKLNPQRTUVXYZ2346789';"
   ]
  },
  {
   "cell_type": "code",
   "execution_count": null,
   "metadata": {},
   "outputs": [],
   "source": [
    "def one_hot_encoding(text, allowedChars):\n",
    "    label_list = []\n",
    "    for c in text:\n",
    "        onehot = [0] * len(allowedChars)\n",
    "        onehot[allowedChars.index(c)] = 1\n",
    "        label_list.append(onehot)\n",
    "    return label_list"
   ]
  },
  {
   "cell_type": "code",
   "execution_count": null,
   "metadata": {},
   "outputs": [],
   "source": [
    "# creat CNN model\n",
    "print('Creating CNN model...')\n",
    "tensor_in = Input((HEIGHT, WIDTH, 3))\n",
    "tensor_out = tensor_in\n",
    "\n",
    "tensor_out = Conv2D(filters=32, kernel_size=(3, 3), padding='same', activation='relu')(tensor_out)\n",
    "tensor_out = Dropout(0.25)(tensor_out)\n",
    "tensor_out = MaxPooling2D(pool_size=(2, 2))(tensor_out)\n",
    "\n",
    "tensor_out = Conv2D(filters=64, kernel_size=(3, 3), padding='same', activation='relu')(tensor_out)\n",
    "tensor_out = Dropout(0.25)(tensor_out)\n",
    "tensor_out = MaxPooling2D(pool_size=(2, 2))(tensor_out)\n",
    "\n",
    "tensor_out = Flatten()(tensor_out)\n",
    "tensor_out = Dropout(0.25)(tensor_out)\n",
    "\n",
    "tensor_out = [Dense(len(allowedChars), name='digit1', activation='softmax')(tensor_out),\\\n",
    "              Dense(len(allowedChars), name='digit2', activation='softmax')(tensor_out),\\\n",
    "              Dense(len(allowedChars), name='digit3', activation='softmax')(tensor_out),\\\n",
    "              Dense(len(allowedChars), name='digit4', activation='softmax')(tensor_out),\\\n",
    "              Dense(len(allowedChars), name='digit5', activation='softmax')(tensor_out)]\n"
   ]
  },
  {
   "cell_type": "code",
   "execution_count": null,
   "metadata": {},
   "outputs": [],
   "source": [
    "model = Model(inputs=tensor_in, outputs=tensor_out)\n",
    "model.compile(loss='categorical_crossentropy', optimizer='Adamax', metrics=['accuracy'])\n",
    "model.summary()"
   ]
  },
  {
   "cell_type": "code",
   "execution_count": null,
   "metadata": {},
   "outputs": [],
   "source": [
    "def read_train_data(filename, size):\n",
    "    train_data = []\n",
    "    if os.path.isdir(filename):\n",
    "        train_data = np.stack([np.array(cv2.imread(filename + str(index) + \".jpg\"))/255.0 for index in range(1, size + 1)])\n",
    "    return train_data"
   ]
  },
  {
   "cell_type": "code",
   "execution_count": null,
   "metadata": {},
   "outputs": [],
   "source": [
    "def read_label_data(filename, allowedChars, num_dic):\n",
    "    train_label = []\n",
    "    traincsv = open(filename, 'r', encoding = 'utf8')\n",
    "    \n",
    "    read_label =  [one_hot_encoding(row[0], allowedChars) for row in csv.reader(traincsv)]\n",
    "    train_label = [[] for _ in range(num_dic)]\n",
    "    \n",
    "    for arr in read_label:\n",
    "        for index in range(num_dic):\n",
    "            train_label[index].append(arr[index])\n",
    "    train_label = [arr for arr in np.asarray(train_label)]\n",
    "    return train_label"
   ]
  },
  {
   "cell_type": "code",
   "execution_count": null,
   "metadata": {},
   "outputs": [],
   "source": [
    "print(\"Reading training data...\")\n",
    "\n",
    "train_data = read_train_data(PROCESSED_FOLDER, SIZE)\n",
    "train_label = read_label_data(LABEL_CSV_FILE, allowedChars, 5)\n",
    "\n",
    "print(\"Reading completed\")"
   ]
  },
  {
   "cell_type": "code",
   "execution_count": null,
   "metadata": {},
   "outputs": [],
   "source": [
    "filepath = MODEL_FOLDER + \"{epoch:02d}-{loss:.2f}-{val_loss:.2f}.hdf5\"\n",
    "checkpoint = ModelCheckpoint(filepath, monitor='val_digit4_acc', verbose=1, save_best_only=False, mode='max')\n",
    "earlystop = EarlyStopping(monitor='val_loss', patience=8, verbose=1, mode='auto')\n",
    "tensorBoard = TensorBoard(log_dir = 'logs', histogram_freq = 1)\n",
    "callbacks_list = [tensorBoard, earlystop, checkpoint]"
   ]
  },
  {
   "cell_type": "code",
   "execution_count": null,
   "metadata": {},
   "outputs": [],
   "source": [
    "history = model.fit(train_data, train_label, validation_split=0.2, batch_size=50, epochs=30, verbose=1, callbacks=callbacks_list)"
   ]
  },
  {
   "cell_type": "code",
   "execution_count": null,
   "metadata": {},
   "outputs": [],
   "source": [
    "import matplotlib.pyplot as plt\n",
    "def show_train_history(train_history, train, validation):\n",
    "    plt.plot(train_history.history[train])\n",
    "    plt.plot(train_history.history[validation])\n",
    "    plt.title('Train History')\n",
    "    plt.ylabel(train)\n",
    "    plt.xlabel('Epoch')\n",
    "    plt.legend(['train', 'validation'], loc='upper left')\n",
    "    plt.show()"
   ]
  },
  {
   "cell_type": "code",
   "execution_count": null,
   "metadata": {},
   "outputs": [],
   "source": [
    "show_train_history(history, 'digit1_acc', 'val_digit1_acc')"
   ]
  },
  {
   "cell_type": "code",
   "execution_count": null,
   "metadata": {},
   "outputs": [],
   "source": []
  }
 ],
 "metadata": {
  "kernelspec": {
   "display_name": "Python 3",
   "language": "python",
   "name": "python3"
  },
  "language_info": {
   "codemirror_mode": {
    "name": "ipython",
    "version": 3
   },
   "file_extension": ".py",
   "mimetype": "text/x-python",
   "name": "python",
   "nbconvert_exporter": "python",
   "pygments_lexer": "ipython3",
   "version": "3.7.4"
  }
 },
 "nbformat": 4,
 "nbformat_minor": 2
}
