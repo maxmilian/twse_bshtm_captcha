{
 "cells": [
  {
   "cell_type": "code",
   "execution_count": null,
   "metadata": {},
   "outputs": [],
   "source": [
    "import requests, shutil, time\n",
    "from bs4 import BeautifulSoup\n",
    "\n",
    "FOLDER = \"captcha/\"\n",
    "\n",
    "def getCatchaSrc():\n",
    "    resp = requests.get(\"https://bsr.twse.com.tw/bshtm/bsMenu.aspx\")\n",
    "    soup = BeautifulSoup(resp.text, 'html.parser')\n",
    "    img_tags = soup.select(\"#Panel_bshtm img\")\n",
    "    return img_tags[0].get('src')\n",
    "\n",
    "i = 2000\n",
    "while i < 2000:\n",
    "    src = getCatchaSrc()\n",
    "    resp = requests.get(\"https://bsr.twse.com.tw/bshtm/\" + src, stream=True)\n",
    "    if resp.status_code == 200:\n",
    "        i += 1\n",
    "        with open(FOLDER + str(i) + \".jpg\", 'wb') as f:\n",
    "            resp.raw.decode_content = True\n",
    "            shutil.copyfileobj(resp.raw, f)\n",
    "        print(\"i: \" + str(i))\n",
    "    time.sleep(1)\n",
    "    \n",
    "print(\"completed\")"
   ]
  },
  {
   "cell_type": "code",
   "execution_count": null,
   "metadata": {},
   "outputs": [],
   "source": []
  }
 ],
 "metadata": {
  "kernelspec": {
   "display_name": "Python 3",
   "language": "python",
   "name": "python3"
  },
  "language_info": {
   "codemirror_mode": {
    "name": "ipython",
    "version": 3
   },
   "file_extension": ".py",
   "mimetype": "text/x-python",
   "name": "python",
   "nbconvert_exporter": "python",
   "pygments_lexer": "ipython3",
   "version": "3.7.4"
  }
 },
 "nbformat": 4,
 "nbformat_minor": 2
}
