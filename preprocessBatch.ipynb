{
 "cells": [
  {
   "cell_type": "code",
   "execution_count": null,
   "metadata": {},
   "outputs": [],
   "source": [
    "import os, random, cv2\n",
    "import matplotlib.pyplot as plt\n",
    "import numpy as np\n",
    "\n",
    "CAPTCHA_FOLDER = \"captcha/\"\n",
    "PROCESSED_FOLDER = \"processed/\"\n",
    "\n",
    "i = 0\n",
    "\n",
    "# ignore existing image\n",
    "while True:\n",
    "    i += 1\n",
    "    filename = PROCESSED_FOLDER + str(i) + '.jpg'\n",
    "    if not os.path.isfile(filename):\n",
    "        i -= 1\n",
    "        break\n",
    "\n",
    "print(\"start to process image from index: \" + str(i))\n",
    "\n",
    "while i < 2000:\n",
    "    i += 1\n",
    "    filename = str(i) + \".jpg\"\n",
    "    if not os.path.isfile(CAPTCHA_FOLDER + filename):\n",
    "        print(\"filename not exists: \" + (CAPTCHA_FOLDER + filename))\n",
    "        break\n",
    "    img = cv2.imread(CAPTCHA_FOLDER + filename)\n",
    "    \n",
    "    denoised = cv2.fastNlMeansDenoisingColored(img, None, 30, 30, 7, 21)\n",
    "\n",
    "    kernel = np.ones((4,4), np.uint8) \n",
    "    erosion = cv2.erode(denoised, kernel, iterations=1)\n",
    "    burred = cv2.GaussianBlur(erosion, (5, 5), 0)\n",
    "    edged = cv2.Canny(burred, 30, 150)\n",
    "    dilation = cv2.dilate(edged, kernel, iterations=1) \n",
    "\n",
    "    cv2.imwrite(PROCESSED_FOLDER + filename, dilation)\n",
    "    print(\"i: \" + str(i))\n",
    "\n",
    "print(\"completed\")"
   ]
  }
 ],
 "metadata": {
  "kernelspec": {
   "display_name": "Python 3",
   "language": "python",
   "name": "python3"
  },
  "language_info": {
   "codemirror_mode": {
    "name": "ipython",
    "version": 3
   },
   "file_extension": ".py",
   "mimetype": "text/x-python",
   "name": "python",
   "nbconvert_exporter": "python",
   "pygments_lexer": "ipython3",
   "version": "3.7.4"
  }
 },
 "nbformat": 4,
 "nbformat_minor": 2
}
