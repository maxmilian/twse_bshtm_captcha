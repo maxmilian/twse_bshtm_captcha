{
 "cells": [
  {
   "cell_type": "code",
   "execution_count": 1,
   "metadata": {},
   "outputs": [
    {
     "name": "stderr",
     "output_type": "stream",
     "text": [
      "Using TensorFlow backend.\n"
     ]
    }
   ],
   "source": [
    "import os, cv2, csv\n",
    "import numpy as np\n",
    "from keras.models import Sequential\n",
    "from keras.models import load_model\n",
    "from keras.models import Model\n",
    "from keras.layers import Input, Dense, Dropout, Flatten, Conv2D, MaxPooling2D\n",
    "from keras.layers.normalization import BatchNormalization\n",
    "from keras.utils  import np_utils\n",
    "from keras.callbacks import ModelCheckpoint, EarlyStopping, TensorBoard\n",
    "\n",
    "SIZE = 2500\n",
    "MODEL_FOLDER = \"model/\"\n",
    "WIDTH = 200\n",
    "HEIGHT = 60\n",
    "PROCESSED_FOLDER = \"processed/\"\n",
    "LABEL_CSV_FILE = 'label.csv'\n",
    "allowedChars = 'ACDEFGHJKLNPQRTUVXYZ2346789';"
   ]
  },
  {
   "cell_type": "code",
   "execution_count": 2,
   "metadata": {},
   "outputs": [],
   "source": [
    "def one_hot_encoding(text, allowedChars):\n",
    "    label_list = []\n",
    "    for c in text:\n",
    "        onehot = [0] * len(allowedChars)\n",
    "        onehot[allowedChars.index(c)] = 1\n",
    "        label_list.append(onehot)\n",
    "    return label_list"
   ]
  },
  {
   "cell_type": "code",
   "execution_count": 3,
   "metadata": {},
   "outputs": [
    {
     "name": "stderr",
     "output_type": "stream",
     "text": [
      "WARNING: Logging before flag parsing goes to stderr.\n",
      "W0918 01:54:39.971849 4527457728 deprecation_wrapper.py:119] From /usr/local/lib/python3.7/site-packages/keras/backend/tensorflow_backend.py:66: The name tf.get_default_graph is deprecated. Please use tf.compat.v1.get_default_graph instead.\n",
      "\n",
      "W0918 01:54:39.988924 4527457728 deprecation_wrapper.py:119] From /usr/local/lib/python3.7/site-packages/keras/backend/tensorflow_backend.py:541: The name tf.placeholder is deprecated. Please use tf.compat.v1.placeholder instead.\n",
      "\n",
      "W0918 01:54:40.007565 4527457728 deprecation_wrapper.py:119] From /usr/local/lib/python3.7/site-packages/keras/backend/tensorflow_backend.py:4432: The name tf.random_uniform is deprecated. Please use tf.random.uniform instead.\n",
      "\n",
      "W0918 01:54:40.051299 4527457728 deprecation_wrapper.py:119] From /usr/local/lib/python3.7/site-packages/keras/backend/tensorflow_backend.py:148: The name tf.placeholder_with_default is deprecated. Please use tf.compat.v1.placeholder_with_default instead.\n",
      "\n",
      "W0918 01:54:40.062272 4527457728 deprecation.py:506] From /usr/local/lib/python3.7/site-packages/keras/backend/tensorflow_backend.py:3733: calling dropout (from tensorflow.python.ops.nn_ops) with keep_prob is deprecated and will be removed in a future version.\n",
      "Instructions for updating:\n",
      "Please use `rate` instead of `keep_prob`. Rate should be set to `rate = 1 - keep_prob`.\n",
      "W0918 01:54:40.117900 4527457728 deprecation_wrapper.py:119] From /usr/local/lib/python3.7/site-packages/keras/backend/tensorflow_backend.py:4267: The name tf.nn.max_pool is deprecated. Please use tf.nn.max_pool2d instead.\n",
      "\n"
     ]
    },
    {
     "name": "stdout",
     "output_type": "stream",
     "text": [
      "Creating CNN model...\n"
     ]
    }
   ],
   "source": [
    "# creat CNN model\n",
    "print('Creating CNN model...')\n",
    "tensor_in = Input((HEIGHT, WIDTH, 3))\n",
    "tensor_out = tensor_in\n",
    "\n",
    "tensor_out = Conv2D(filters=32, kernel_size=(3, 3), padding='same', activation='relu')(tensor_out)\n",
    "tensor_out = Dropout(0.25)(tensor_out)\n",
    "tensor_out = MaxPooling2D(pool_size=(2, 2))(tensor_out)\n",
    "\n",
    "tensor_out = Conv2D(filters=64, kernel_size=(3, 3), padding='same', activation='relu')(tensor_out)\n",
    "tensor_out = Dropout(0.25)(tensor_out)\n",
    "tensor_out = MaxPooling2D(pool_size=(2, 2))(tensor_out)\n",
    "\n",
    "tensor_out = Flatten()(tensor_out)\n",
    "tensor_out = Dropout(0.25)(tensor_out)\n",
    "\n",
    "tensor_out = [Dense(len(allowedChars), name='digit1', activation='softmax')(tensor_out),\\\n",
    "              Dense(len(allowedChars), name='digit2', activation='softmax')(tensor_out),\\\n",
    "              Dense(len(allowedChars), name='digit3', activation='softmax')(tensor_out),\\\n",
    "              Dense(len(allowedChars), name='digit4', activation='softmax')(tensor_out),\\\n",
    "              Dense(len(allowedChars), name='digit5', activation='softmax')(tensor_out)]\n"
   ]
  },
  {
   "cell_type": "code",
   "execution_count": 4,
   "metadata": {},
   "outputs": [
    {
     "name": "stderr",
     "output_type": "stream",
     "text": [
      "W0918 01:54:40.335929 4527457728 deprecation_wrapper.py:119] From /usr/local/lib/python3.7/site-packages/keras/optimizers.py:793: The name tf.train.Optimizer is deprecated. Please use tf.compat.v1.train.Optimizer instead.\n",
      "\n",
      "W0918 01:54:40.387578 4527457728 deprecation_wrapper.py:119] From /usr/local/lib/python3.7/site-packages/keras/backend/tensorflow_backend.py:3576: The name tf.log is deprecated. Please use tf.math.log instead.\n",
      "\n"
     ]
    },
    {
     "name": "stdout",
     "output_type": "stream",
     "text": [
      "Model: \"model_1\"\n",
      "__________________________________________________________________________________________________\n",
      "Layer (type)                    Output Shape         Param #     Connected to                     \n",
      "==================================================================================================\n",
      "input_1 (InputLayer)            (None, 60, 200, 3)   0                                            \n",
      "__________________________________________________________________________________________________\n",
      "conv2d_1 (Conv2D)               (None, 60, 200, 32)  896         input_1[0][0]                    \n",
      "__________________________________________________________________________________________________\n",
      "dropout_1 (Dropout)             (None, 60, 200, 32)  0           conv2d_1[0][0]                   \n",
      "__________________________________________________________________________________________________\n",
      "max_pooling2d_1 (MaxPooling2D)  (None, 30, 100, 32)  0           dropout_1[0][0]                  \n",
      "__________________________________________________________________________________________________\n",
      "conv2d_2 (Conv2D)               (None, 30, 100, 64)  18496       max_pooling2d_1[0][0]            \n",
      "__________________________________________________________________________________________________\n",
      "dropout_2 (Dropout)             (None, 30, 100, 64)  0           conv2d_2[0][0]                   \n",
      "__________________________________________________________________________________________________\n",
      "max_pooling2d_2 (MaxPooling2D)  (None, 15, 50, 64)   0           dropout_2[0][0]                  \n",
      "__________________________________________________________________________________________________\n",
      "flatten_1 (Flatten)             (None, 48000)        0           max_pooling2d_2[0][0]            \n",
      "__________________________________________________________________________________________________\n",
      "dropout_3 (Dropout)             (None, 48000)        0           flatten_1[0][0]                  \n",
      "__________________________________________________________________________________________________\n",
      "digit1 (Dense)                  (None, 27)           1296027     dropout_3[0][0]                  \n",
      "__________________________________________________________________________________________________\n",
      "digit2 (Dense)                  (None, 27)           1296027     dropout_3[0][0]                  \n",
      "__________________________________________________________________________________________________\n",
      "digit3 (Dense)                  (None, 27)           1296027     dropout_3[0][0]                  \n",
      "__________________________________________________________________________________________________\n",
      "digit4 (Dense)                  (None, 27)           1296027     dropout_3[0][0]                  \n",
      "__________________________________________________________________________________________________\n",
      "digit5 (Dense)                  (None, 27)           1296027     dropout_3[0][0]                  \n",
      "==================================================================================================\n",
      "Total params: 6,499,527\n",
      "Trainable params: 6,499,527\n",
      "Non-trainable params: 0\n",
      "__________________________________________________________________________________________________\n"
     ]
    }
   ],
   "source": [
    "model = Model(inputs=tensor_in, outputs=tensor_out)\n",
    "model.compile(loss='categorical_crossentropy', optimizer='Adamax', metrics=['accuracy'])\n",
    "model.summary()"
   ]
  },
  {
   "cell_type": "code",
   "execution_count": 5,
   "metadata": {},
   "outputs": [],
   "source": [
    "def read_train_data(filename, size):\n",
    "    train_data = []\n",
    "    if os.path.isdir(filename):\n",
    "        train_data = np.stack([np.array(cv2.imread(filename + str(index) + \".jpg\"))/255.0 for index in range(1, size + 1)])\n",
    "    return train_data"
   ]
  },
  {
   "cell_type": "code",
   "execution_count": 6,
   "metadata": {},
   "outputs": [],
   "source": [
    "def read_label_data(filename, allowedChars, num_dic):\n",
    "    train_label = []\n",
    "    traincsv = open(filename, 'r', encoding = 'utf8')\n",
    "    \n",
    "    read_label =  [one_hot_encoding(row[0], allowedChars) for row in csv.reader(traincsv)]\n",
    "    train_label = [[] for _ in range(num_dic)]\n",
    "    \n",
    "    for arr in read_label:\n",
    "        for index in range(num_dic):\n",
    "            train_label[index].append(arr[index])\n",
    "    train_label = [arr for arr in np.asarray(train_label)]\n",
    "    return train_label"
   ]
  },
  {
   "cell_type": "code",
   "execution_count": 7,
   "metadata": {},
   "outputs": [
    {
     "name": "stdout",
     "output_type": "stream",
     "text": [
      "Reading training data...\n",
      "Reading completed\n"
     ]
    }
   ],
   "source": [
    "print(\"Reading training data...\")\n",
    "\n",
    "train_data = read_train_data(PROCESSED_FOLDER, SIZE)\n",
    "train_label = read_label_data(LABEL_CSV_FILE, allowedChars, 5)\n",
    "\n",
    "print(\"Reading completed\")"
   ]
  },
  {
   "cell_type": "code",
   "execution_count": 8,
   "metadata": {},
   "outputs": [],
   "source": [
    "filepath = MODEL_FOLDER + \"{epoch:02d}-{loss:.2f}-{val_loss:.2f}.hdf5\"\n",
    "checkpoint = ModelCheckpoint(filepath, monitor='val_digit4_acc', verbose=1, save_best_only=False, mode='max')\n",
    "earlystop = EarlyStopping(monitor='val_loss', patience=8, verbose=1, mode='auto')\n",
    "tensorBoard = TensorBoard(log_dir = 'logs', histogram_freq = 1)\n",
    "callbacks_list = [tensorBoard, earlystop, checkpoint]"
   ]
  },
  {
   "cell_type": "code",
   "execution_count": 9,
   "metadata": {},
   "outputs": [
    {
     "name": "stdout",
     "output_type": "stream",
     "text": [
      "model loading...\n"
     ]
    },
    {
     "name": "stderr",
     "output_type": "stream",
     "text": [
      "W0918 01:54:55.684997 4527457728 deprecation.py:323] From /usr/local/lib/python3.7/site-packages/tensorflow/python/ops/math_grad.py:1250: add_dispatch_support.<locals>.wrapper (from tensorflow.python.ops.array_ops) is deprecated and will be removed in a future version.\n",
      "Instructions for updating:\n",
      "Use tf.where in 2.0, which has the same broadcast rule as np.where\n"
     ]
    },
    {
     "name": "stdout",
     "output_type": "stream",
     "text": [
      "loading completed\n"
     ]
    }
   ],
   "source": [
    "print('model loading...')\n",
    "model = load_model(\"twse_cnn_model.hdf5\")\n",
    "print('loading completed')"
   ]
  },
  {
   "cell_type": "code",
   "execution_count": null,
   "metadata": {},
   "outputs": [
    {
     "name": "stderr",
     "output_type": "stream",
     "text": [
      "W0918 01:54:56.970074 4527457728 deprecation_wrapper.py:119] From /usr/local/lib/python3.7/site-packages/keras/callbacks.py:1120: The name tf.summary.histogram is deprecated. Please use tf.compat.v1.summary.histogram instead.\n",
      "\n",
      "W0918 01:54:57.021807 4527457728 deprecation_wrapper.py:119] From /usr/local/lib/python3.7/site-packages/keras/callbacks.py:1122: The name tf.summary.merge_all is deprecated. Please use tf.compat.v1.summary.merge_all instead.\n",
      "\n",
      "W0918 01:54:57.026633 4527457728 deprecation_wrapper.py:119] From /usr/local/lib/python3.7/site-packages/keras/callbacks.py:1125: The name tf.summary.FileWriter is deprecated. Please use tf.compat.v1.summary.FileWriter instead.\n",
      "\n"
     ]
    },
    {
     "name": "stdout",
     "output_type": "stream",
     "text": [
      "Train on 2000 samples, validate on 500 samples\n",
      "Epoch 1/30\n",
      "2000/2000 [==============================] - 28s 14ms/step - loss: 2.0023 - digit1_loss: 0.4725 - digit2_loss: 0.3445 - digit3_loss: 0.3436 - digit4_loss: 0.3645 - digit5_loss: 0.4772 - digit1_acc: 0.8790 - digit2_acc: 0.9075 - digit3_acc: 0.9030 - digit4_acc: 0.9070 - digit5_acc: 0.8765 - val_loss: 1.6348 - val_digit1_loss: 0.3287 - val_digit2_loss: 0.2911 - val_digit3_loss: 0.3177 - val_digit4_loss: 0.3143 - val_digit5_loss: 0.3829 - val_digit1_acc: 0.9300 - val_digit2_acc: 0.9360 - val_digit3_acc: 0.9340 - val_digit4_acc: 0.9300 - val_digit5_acc: 0.8960\n",
      "\n",
      "Epoch 00001: saving model to model/01-2.00-1.63.hdf5\n",
      "Epoch 2/30\n",
      "1400/2000 [====================>.........] - ETA: 7s - loss: 0.5629 - digit1_loss: 0.1405 - digit2_loss: 0.0936 - digit3_loss: 0.1016 - digit4_loss: 0.0957 - digit5_loss: 0.1315 - digit1_acc: 0.9614 - digit2_acc: 0.9779 - digit3_acc: 0.9729 - digit4_acc: 0.9771 - digit5_acc: 0.9593"
     ]
    }
   ],
   "source": [
    "history = model.fit(train_data, train_label, validation_split=0.2, batch_size=50, epochs=30, verbose=1, callbacks=callbacks_list)"
   ]
  },
  {
   "cell_type": "code",
   "execution_count": null,
   "metadata": {},
   "outputs": [],
   "source": [
    "import matplotlib.pyplot as plt\n",
    "def show_train_history(train_history, train, validation):\n",
    "    plt.plot(train_history.history[train])\n",
    "    plt.plot(train_history.history[validation])\n",
    "    plt.title('Train History')\n",
    "    plt.ylabel(train)\n",
    "    plt.xlabel('Epoch')\n",
    "    plt.legend(['train', 'validation'], loc='upper left')\n",
    "    plt.show()"
   ]
  },
  {
   "cell_type": "code",
   "execution_count": null,
   "metadata": {},
   "outputs": [],
   "source": [
    "show_train_history(history, 'digit1_acc', 'val_digit1_acc')"
   ]
  },
  {
   "cell_type": "code",
   "execution_count": null,
   "metadata": {},
   "outputs": [],
   "source": []
  }
 ],
 "metadata": {
  "kernelspec": {
   "display_name": "Python 3",
   "language": "python",
   "name": "python3"
  },
  "language_info": {
   "codemirror_mode": {
    "name": "ipython",
    "version": 3
   },
   "file_extension": ".py",
   "mimetype": "text/x-python",
   "name": "python",
   "nbconvert_exporter": "python",
   "pygments_lexer": "ipython3",
   "version": "3.7.4"
  }
 },
 "nbformat": 4,
 "nbformat_minor": 2
}
