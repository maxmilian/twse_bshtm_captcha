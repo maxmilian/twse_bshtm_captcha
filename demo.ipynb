{
 "cells": [
  {
   "cell_type": "code",
   "execution_count": null,
   "metadata": {},
   "outputs": [],
   "source": [
    "import requests, shutil, time, cv2\n",
    "from bs4 import BeautifulSoup\n",
    "import numpy as np\n",
    "from keras.models import load_model\n",
    "from preprocessBatch import preprocessing\n",
    "from utilities import one_hot_decoding\n",
    "\n",
    "allowedChars = 'ACDEFGHJKLNPQRTUVXYZ2346789';\n",
    "CAPTCHA_IMG = \"captcha.jpg\"\n",
    "PROCESSED_IMG = \"preprocessing.jpg\"\n",
    "FOLDER = \"captcha/\"\n",
    "CSV_FILE = \"auto-train.csv\""
   ]
  },
  {
   "cell_type": "code",
   "execution_count": null,
   "metadata": {},
   "outputs": [],
   "source": [
    "print('model loading...')\n",
    "model = load_model(\"twse_cnn_model.hdf5\")\n",
    "print('loading completed')"
   ]
  },
  {
   "cell_type": "code",
   "execution_count": null,
   "metadata": {},
   "outputs": [],
   "source": [
    "i = 5039\n",
    "\n",
    "while i < 5500:\n",
    "    resp = requests.get(\"https://bsr.twse.com.tw/bshtm/bsMenu.aspx\")\n",
    "    soup = BeautifulSoup(resp.text, 'html.parser')\n",
    "    img_tags = soup.select(\"#Panel_bshtm img\")\n",
    "    src = img_tags[0].get('src')\n",
    "\n",
    "    resp = requests.get(\"https://bsr.twse.com.tw/bshtm/\" + src, stream=True)\n",
    "    if resp.status_code == 200:\n",
    "        with open(CAPTCHA_IMG, 'wb') as f:\n",
    "            resp.raw.decode_content = True\n",
    "            shutil.copyfileobj(resp.raw, f)\n",
    "            \n",
    "    preprocessing(CAPTCHA_IMG, PROCESSED_IMG)\n",
    "    train_data = np.stack([np.array(cv2.imread(PROCESSED_IMG))/255.0])\n",
    "    prediction = model.predict(train_data)\n",
    "    \n",
    "    predict_captcha = one_hot_decoding(prediction, allowedChars)\n",
    "\n",
    "    payload = {}\n",
    "    acceptable_input = ['__VIEWSTATE', '__VIEWSTATEGENERATOR', '__EVENTVALIDATION', 'RadioButton_Normal',\n",
    "                        'TextBox_Stkno', 'CaptchaControl1', 'btnOK']\n",
    "\n",
    "    inputs = soup.select(\"input\")\n",
    "    for elem in inputs:\n",
    "        if elem.get(\"name\") in acceptable_input:\n",
    "            if elem.get(\"value\") != None:\n",
    "                payload[elem.get(\"name\")] = elem.get(\"value\")\n",
    "            else:\n",
    "                payload[elem.get(\"name\")] = \"\"\n",
    "                \n",
    "    payload['TextBox_Stkno'] = '2330'\n",
    "    payload['CaptchaControl1'] = predict_captcha\n",
    "    \n",
    "    resp = requests.post(\"https://bsr.twse.com.tw/bshtm/bsMenu.aspx\", data=payload)\n",
    "    if '驗證碼錯誤!' in resp.text:\n",
    "        print('驗證碼錯誤, predict_captcha: ' + predict_captcha)\n",
    "    elif '驗證碼已逾期!' in resp.text:\n",
    "        print('驗證碼已逾期, predict_captcha: ' + predict_captcha)\n",
    "    elif 'HyperLink_DownloadCSV' in resp.text:\n",
    "        # add to label\\n\",\n",
    "        i += 1\n",
    "        print(\"success, add \" + str(i) + \".jpg with captcha: \" + predict_captcha)\n",
    "        shutil.copyfile(CAPTCHA_IMG, FOLDER + str(i) + \".jpg\")\n",
    "        with open(CSV_FILE,'a') as fd:\n",
    "            fd.write(predict_captcha + \"\\n\")\n",
    "            \n",
    "    time.sleep(1)\n",
    "\n",
    "print(\"completed\")"
   ]
  },
  {
   "cell_type": "code",
   "execution_count": null,
   "metadata": {},
   "outputs": [],
   "source": []
  }
 ],
 "metadata": {
  "kernelspec": {
   "display_name": "Python 3",
   "language": "python",
   "name": "python3"
  },
  "language_info": {
   "codemirror_mode": {
    "name": "ipython",
    "version": 3
   },
   "file_extension": ".py",
   "mimetype": "text/x-python",
   "name": "python",
   "nbconvert_exporter": "python",
   "pygments_lexer": "ipython3",
   "version": "3.7.4"
  }
 },
 "nbformat": 4,
 "nbformat_minor": 2
}
